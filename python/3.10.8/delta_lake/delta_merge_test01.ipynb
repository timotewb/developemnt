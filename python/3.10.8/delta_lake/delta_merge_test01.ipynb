{
 "cells": [
  {
   "cell_type": "code",
   "execution_count": 20,
   "metadata": {},
   "outputs": [],
   "source": [
    "from pyspark.sql import SparkSession\n",
    "from pyspark import SparkContext\n",
    "import pyspark.sql.functions as F\n",
    "import delta as delta"
   ]
  },
  {
   "cell_type": "code",
   "execution_count": 21,
   "metadata": {},
   "outputs": [],
   "source": [
    "builder = SparkSession.builder.appName(\"test001\") \\\n",
    "    .master(\"local\") \\\n",
    "    .config(\"spark.jars.packages\", \"io.delta:delta-core_2.12:0.8.0\") \\\n",
    "    .config(\"spark.sql.extensions\", \"io.delta.sql.DeltaSparkSessionExtension\") \\\n",
    "    .config(\"spark.sql.catalog.spark_catalog\", \"org.apache.spark.sql.delta.catalog.DeltaCatalog\")\n",
    "\n",
    "spark = delta.configure_spark_with_delta_pip(builder).getOrCreate()\n",
    "sc = SparkContext.getOrCreate()"
   ]
  },
  {
   "cell_type": "code",
   "execution_count": 22,
   "metadata": {},
   "outputs": [
    {
     "name": "stdout",
     "output_type": "stream",
     "text": [
      "+------+-----------+------+----------+-------------------------+\n",
      "|Author|BlogEntries|Caller|Name      |Url                      |\n",
      "+------+-----------+------+----------+-------------------------+\n",
      "|jangcy|100        |jangcy|something1|https://stackoverflow.com|\n",
      "+------+-----------+------+----------+-------------------------+\n",
      "\n"
     ]
    }
   ],
   "source": [
    "newJson = '{\"Name\":\"something1\",\"Url\":\"https://stackoverflow.com\",\"Author\":\"jangcy\",\"BlogEntries\":100,\"Caller\":\"jangcy\"}'\n",
    "df = spark.read.json(sc.parallelize([newJson]))\n",
    "df.show(truncate=False)"
   ]
  },
  {
   "cell_type": "code",
   "execution_count": 23,
   "metadata": {},
   "outputs": [
    {
     "name": "stderr",
     "output_type": "stream",
     "text": [
      "                                                                                \r"
     ]
    },
    {
     "name": "stdout",
     "output_type": "stream",
     "text": [
      "+------+-----------+------+----------+--------------------+\n",
      "|Author|BlogEntries|Caller|      Name|                 Url|\n",
      "+------+-----------+------+----------+--------------------+\n",
      "|jangcy|        100|jangcy|something1|https://stackover...|\n",
      "+------+-----------+------+----------+--------------------+\n",
      "\n"
     ]
    }
   ],
   "source": [
    "df.write.format(\"delta\").mode(\"overwrite\").save(\"delta_merge_test01.parquet\")\n",
    "\n",
    "df1 = spark.read.format(\"delta\").load(\"delta_merge_test01.parquet\")\n",
    "df1.show()"
   ]
  },
  {
   "cell_type": "code",
   "execution_count": 24,
   "metadata": {},
   "outputs": [
    {
     "name": "stdout",
     "output_type": "stream",
     "text": [
      "+------+-----------+------+---------+-------------------------+\n",
      "|Author|BlogEntries|Caller|Name     |Url                      |\n",
      "+------+-----------+------+---------+-------------------------+\n",
      "|jangcy|100        |jangcy|something|https://stackoverflow.com|\n",
      "+------+-----------+------+---------+-------------------------+\n",
      "\n"
     ]
    }
   ],
   "source": [
    "newJson = '{\"Name\":\"something\",\"Url\":\"https://stackoverflow.com\",\"Author\":\"jangcy\",\"BlogEntries\":100,\"Caller\":\"jangcy\"}'\n",
    "df2 = spark.read.json(sc.parallelize([newJson]))\n",
    "df2.show(truncate=False)"
   ]
  },
  {
   "cell_type": "code",
   "execution_count": 25,
   "metadata": {},
   "outputs": [
    {
     "name": "stderr",
     "output_type": "stream",
     "text": [
      "                                                                                \r"
     ]
    }
   ],
   "source": [
    "deltaTable = delta.tables.DeltaTable.forPath(spark, \"delta_merge_test01.parquet\")\n",
    "\n",
    "deltaTable.alias(\"deltaTable\") \\\n",
    "  .merge(\n",
    "    df2.alias(\"df2\"),\n",
    "    \"deltaTable.Name = df2.Name\") \\\n",
    "  .whenMatchedUpdate(set = { \"Name\": F.col(\"deltaTable.Name\"),\n",
    "                           \"Author\": F.col(\"deltaTable.Author\"),\n",
    "                           \"BlogEntries\": F.col(\"deltaTable.BlogEntries\"),\n",
    "                           \"Caller\": F.col(\"deltaTable.Caller\"),\n",
    "                           \"Url\": F.col(\"deltaTable.Url\")}) \\\n",
    "  .whenNotMatchedInsert(values = { \"Name\": F.col(\"df2.Name\"),\n",
    "                           \"Author\": F.col(\"df2.Author\"),\n",
    "                           \"BlogEntries\": F.col(\"df2.BlogEntries\"),\n",
    "                           \"Caller\": F.col(\"df2.Caller\"),\n",
    "                           \"Url\": F.col(\"df2.Url\")}) \\\n",
    "  .execute()\n"
   ]
  },
  {
   "cell_type": "code",
   "execution_count": 26,
   "metadata": {},
   "outputs": [
    {
     "name": "stdout",
     "output_type": "stream",
     "text": [
      "+------+-----------+------+----------+--------------------+\n",
      "|Author|BlogEntries|Caller|      Name|                 Url|\n",
      "+------+-----------+------+----------+--------------------+\n",
      "|jangcy|        100|jangcy|something1|https://stackover...|\n",
      "|jangcy|        100|jangcy| something|https://stackover...|\n",
      "+------+-----------+------+----------+--------------------+\n",
      "\n"
     ]
    }
   ],
   "source": [
    "deltaTable.toDF().show()"
   ]
  },
  {
   "cell_type": "code",
   "execution_count": 27,
   "metadata": {},
   "outputs": [
    {
     "name": "stdout",
     "output_type": "stream",
     "text": [
      "+------+-----------+------+---------+-----------------------------------+\n",
      "|Author|BlogEntries|Caller|Name     |Url                                |\n",
      "+------+-----------+------+---------+-----------------------------------+\n",
      "|jangcy|111        |jangcy|something|https://stackoverflow.com/something|\n",
      "+------+-----------+------+---------+-----------------------------------+\n",
      "\n"
     ]
    }
   ],
   "source": [
    "newJson = '{\"Name\":\"something\",\"Url\":\"https://stackoverflow.com/something\",\"Author\":\"jangcy\",\"BlogEntries\":111,\"Caller\":\"jangcy\"}'\n",
    "df2 = spark.read.json(sc.parallelize([newJson]))\n",
    "df2.show(truncate=False)"
   ]
  },
  {
   "cell_type": "code",
   "execution_count": 28,
   "metadata": {},
   "outputs": [
    {
     "name": "stderr",
     "output_type": "stream",
     "text": [
      "                                                                                \r"
     ]
    }
   ],
   "source": [
    "deltaTable = delta.tables.DeltaTable.forPath(spark, \"delta_merge_test01.parquet\")\n",
    "\n",
    "deltaTable.alias(\"deltaTable\") \\\n",
    "    .merge(\n",
    "    df2.alias(\"df2\"),\n",
    "    \"deltaTable.Name = df2.Name\") \\\n",
    "    .whenMatchedUpdateAll()\\\n",
    "    .whenNotMatchedInsertAll()\\\n",
    "    .execute()\n"
   ]
  },
  {
   "cell_type": "code",
   "execution_count": 29,
   "metadata": {},
   "outputs": [
    {
     "name": "stdout",
     "output_type": "stream",
     "text": [
      "+------+-----------+------+----------+--------------------+\n",
      "|Author|BlogEntries|Caller|      Name|                 Url|\n",
      "+------+-----------+------+----------+--------------------+\n",
      "|jangcy|        111|jangcy| something|https://stackover...|\n",
      "|jangcy|        100|jangcy|something1|https://stackover...|\n",
      "+------+-----------+------+----------+--------------------+\n",
      "\n"
     ]
    }
   ],
   "source": [
    "deltaTable.toDF().show()"
   ]
  },
  {
   "cell_type": "code",
   "execution_count": 30,
   "metadata": {},
   "outputs": [
    {
     "name": "stdout",
     "output_type": "stream",
     "text": [
      "+------+-----------+------+----------+--------------------+\n",
      "|Author|BlogEntries|Caller|      Name|                 Url|\n",
      "+------+-----------+------+----------+--------------------+\n",
      "|jangcy|        111|jangcy| something|https://stackover...|\n",
      "|jangcy|        100|jangcy|something1|https://stackover...|\n",
      "+------+-----------+------+----------+--------------------+\n",
      "\n"
     ]
    }
   ],
   "source": [
    "deltaTable = delta.tables.DeltaTable.forPath(spark, \"delta_merge_test01.parquet\")\n",
    "deltaTable.toDF().show()"
   ]
  },
  {
   "cell_type": "code",
   "execution_count": 31,
   "metadata": {},
   "outputs": [
    {
     "name": "stderr",
     "output_type": "stream",
     "text": [
      "                                                                                \r"
     ]
    },
    {
     "name": "stdout",
     "output_type": "stream",
     "text": [
      "+------+-----------+------+----------+--------------------+\n",
      "|Author|BlogEntries|Caller|      Name|                 Url|\n",
      "+------+-----------+------+----------+--------------------+\n",
      "|jangcy|        100|jangcy|something1|https://stackover...|\n",
      "+------+-----------+------+----------+--------------------+\n",
      "\n"
     ]
    },
    {
     "name": "stderr",
     "output_type": "stream",
     "text": [
      "\r",
      "[Stage 202:====================================================>  (48 + 1) / 50]\r",
      "\r",
      "                                                                                \r"
     ]
    }
   ],
   "source": [
    "df = spark.read.format(\"delta\").option(\"versionAsOf\", 0).load(\"delta_merge_test01.parquet\")\n",
    "df.show()"
   ]
  },
  {
   "cell_type": "code",
   "execution_count": 32,
   "metadata": {},
   "outputs": [
    {
     "name": "stderr",
     "output_type": "stream",
     "text": [
      "                                                                                \r"
     ]
    },
    {
     "name": "stdout",
     "output_type": "stream",
     "text": [
      "+------+-----------+------+----------+--------------------+\n",
      "|Author|BlogEntries|Caller|      Name|                 Url|\n",
      "+------+-----------+------+----------+--------------------+\n",
      "|jangcy|        100|jangcy|something1|https://stackover...|\n",
      "|jangcy|        100|jangcy| something|https://stackover...|\n",
      "+------+-----------+------+----------+--------------------+\n",
      "\n"
     ]
    }
   ],
   "source": [
    "df = spark.read.format(\"delta\").option(\"versionAsOf\", 1).load(\"delta_merge_test01.parquet\")\n",
    "df.show()"
   ]
  },
  {
   "cell_type": "code",
   "execution_count": 33,
   "metadata": {},
   "outputs": [
    {
     "name": "stdout",
     "output_type": "stream",
     "text": [
      "+------+-----------+------+----------+--------------------+\n",
      "|Author|BlogEntries|Caller|      Name|                 Url|\n",
      "+------+-----------+------+----------+--------------------+\n",
      "|jangcy|        111|jangcy| something|https://stackover...|\n",
      "|jangcy|        100|jangcy|something1|https://stackover...|\n",
      "+------+-----------+------+----------+--------------------+\n",
      "\n"
     ]
    }
   ],
   "source": [
    "df = spark.read.format(\"delta\").option(\"versionAsOf\", 2).load(\"delta_merge_test01.parquet\")\n",
    "df.show()"
   ]
  },
  {
   "cell_type": "code",
   "execution_count": null,
   "metadata": {},
   "outputs": [],
   "source": []
  },
  {
   "cell_type": "code",
   "execution_count": null,
   "metadata": {},
   "outputs": [],
   "source": []
  }
 ],
 "metadata": {
  "kernelspec": {
   "display_name": "Python 3 (ipykernel)",
   "language": "python",
   "name": "python3"
  },
  "language_info": {
   "codemirror_mode": {
    "name": "ipython",
    "version": 3
   },
   "file_extension": ".py",
   "mimetype": "text/x-python",
   "name": "python",
   "nbconvert_exporter": "python",
   "pygments_lexer": "ipython3",
   "version": "3.10.8"
  }
 },
 "nbformat": 4,
 "nbformat_minor": 2
}
