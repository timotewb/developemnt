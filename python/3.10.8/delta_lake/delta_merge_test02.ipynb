{
 "cells": [
  {
   "cell_type": "code",
   "execution_count": null,
   "metadata": {},
   "outputs": [],
   "source": [
    "from pyspark.sql import SparkSession\n",
    "from pyspark import SparkContext\n",
    "import pyspark.sql.functions as F\n",
    "import delta as delta\n",
    "\n",
    "builder = SparkSession.builder.appName(\"test001\") \\\n",
    "    .master(\"local\") \\\n",
    "    .config(\"spark.jars.packages\", \"io.delta:delta-core_2.12:0.8.0\") \\\n",
    "    .config(\"spark.sql.extensions\", \"io.delta.sql.DeltaSparkSessionExtension\") \\\n",
    "    .config(\"spark.sql.catalog.spark_catalog\", \"org.apache.spark.sql.delta.catalog.DeltaCatalog\")\n",
    "\n",
    "spark = delta.configure_spark_with_delta_pip(builder).getOrCreate()\n",
    "sc = SparkContext.getOrCreate()"
   ]
  },
  {
   "cell_type": "code",
   "execution_count": null,
   "metadata": {},
   "outputs": [],
   "source": [
    "newJson = '{\"Name\":\"something1\",\"Url\":\"https://stackoverflow.com\",\"Author\":\"jangcy\",\"BlogEntries\":100,\"Caller\":\"jangcy\"}'\n",
    "\n",
    "df = spark.read.json(sc.parallelize([newJson]))\n",
    "df.write.format(\"delta\").mode(\"overwrite\").save(\"delta_merge_test02.parquet\")"
   ]
  },
  {
   "cell_type": "code",
   "execution_count": null,
   "metadata": {},
   "outputs": [],
   "source": [
    "newJson = '{\"Name\":\"something1\",\"Url\":\"https://stackoverflow.com\",\"Author\":\"jangcy\",\"BlogEntries\":100,\"Caller\":\"jangcy\"}'\n",
    "\n",
    "\n",
    "def update_table(newJson):\n",
    "    df = spark.read.json(sc.parallelize([newJson]))\n",
    "\n",
    "    deltaTable = delta.tables.DeltaTable.forPath(spark, \"delta_merge_test01.parquet\")\n",
    "\n",
    "    deltaTable.alias(\"deltaTable\") \\\n",
    "        .merge(\n",
    "        df2.alias(\"df2\"),\n",
    "        \"deltaTable.Name = df2.Name\") \\\n",
    "        .whenMatchedUpdateAll()\\\n",
    "        .whenNotMatchedInsertAll()\\\n",
    "        .execute()\n"
   ]
  }
 ],
 "metadata": {
  "language_info": {
   "name": "python"
  },
  "orig_nbformat": 4
 },
 "nbformat": 4,
 "nbformat_minor": 2
}
