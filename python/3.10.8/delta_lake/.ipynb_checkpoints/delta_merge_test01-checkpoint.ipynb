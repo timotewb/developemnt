{
 "cells": [
  {
   "cell_type": "code",
   "execution_count": 3,
   "metadata": {},
   "outputs": [],
   "source": [
    "from pyspark.sql import SparkSession\n",
    "from pyspark import SparkContext\n",
    "import pyspark.sql.functions as F\n",
    "import delta as delta"
   ]
  },
  {
   "cell_type": "code",
   "execution_count": 4,
   "metadata": {},
   "outputs": [
    {
     "name": "stdout",
     "output_type": "stream",
     "text": [
      "23/02/06 09:33:09 WARN Utils: Your hostname, X10DAi resolves to a loopback address: 127.0.1.1; using 172.24.24.70 instead (on interface eth0)\n",
      "23/02/06 09:33:09 WARN Utils: Set SPARK_LOCAL_IP if you need to bind to another address\n",
      ":: loading settings :: url = jar:file:/opt/spark/jars/ivy-2.5.0.jar!/org/apache/ivy/core/settings/ivysettings.xml\n"
     ]
    },
    {
     "name": "stderr",
     "output_type": "stream",
     "text": [
      "Ivy Default Cache set to: /home/timotewb/.ivy2/cache\n",
      "The jars for the packages stored in: /home/timotewb/.ivy2/jars\n",
      "io.delta#delta-core_2.12 added as a dependency\n",
      ":: resolving dependencies :: org.apache.spark#spark-submit-parent-59234f59-17cd-4c2c-82ef-fd553cfbd1b3;1.0\n",
      "\tconfs: [default]\n",
      "\tfound io.delta#delta-core_2.12;2.2.0 in central\n",
      "\tfound io.delta#delta-storage;2.2.0 in central\n",
      "\tfound org.antlr#antlr4-runtime;4.8 in central\n",
      ":: resolution report :: resolve 236ms :: artifacts dl 8ms\n",
      "\t:: modules in use:\n",
      "\tio.delta#delta-core_2.12;2.2.0 from central in [default]\n",
      "\tio.delta#delta-storage;2.2.0 from central in [default]\n",
      "\torg.antlr#antlr4-runtime;4.8 from central in [default]\n",
      "\t---------------------------------------------------------------------\n",
      "\t|                  |            modules            ||   artifacts   |\n",
      "\t|       conf       | number| search|dwnlded|evicted|| number|dwnlded|\n",
      "\t---------------------------------------------------------------------\n",
      "\t|      default     |   3   |   0   |   0   |   0   ||   3   |   0   |\n",
      "\t---------------------------------------------------------------------\n",
      ":: retrieving :: org.apache.spark#spark-submit-parent-59234f59-17cd-4c2c-82ef-fd553cfbd1b3\n",
      "\tconfs: [default]\n",
      "\t0 artifacts copied, 3 already retrieved (0kB/8ms)\n"
     ]
    },
    {
     "name": "stdout",
     "output_type": "stream",
     "text": [
      "23/02/06 09:33:11 WARN NativeCodeLoader: Unable to load native-hadoop library for your platform... using builtin-java classes where applicable\n"
     ]
    },
    {
     "name": "stderr",
     "output_type": "stream",
     "text": [
      "Setting default log level to \"WARN\".\n",
      "To adjust logging level use sc.setLogLevel(newLevel). For SparkR, use setLogLevel(newLevel).\n"
     ]
    }
   ],
   "source": [
    "builder = SparkSession.builder.appName(\"test001\") \\\n",
    "    .master(\"local\") \\\n",
    "    .config(\"spark.jars.packages\", \"io.delta:delta-core_2.12:0.8.0\") \\\n",
    "    .config(\"spark.sql.extensions\", \"io.delta.sql.DeltaSparkSessionExtension\") \\\n",
    "    .config(\"spark.sql.catalog.spark_catalog\", \"org.apache.spark.sql.delta.catalog.DeltaCatalog\")\n",
    "\n",
    "spark = delta.configure_spark_with_delta_pip(builder).getOrCreate()\n",
    "sc = SparkContext.getOrCreate()"
   ]
  },
  {
   "cell_type": "code",
   "execution_count": 5,
   "metadata": {},
   "outputs": [
    {
     "name": "stderr",
     "output_type": "stream",
     "text": [
      "                                                                                \r"
     ]
    },
    {
     "name": "stdout",
     "output_type": "stream",
     "text": [
      "+------+-----------+------+----------+-------------------------+\n",
      "|Author|BlogEntries|Caller|Name      |Url                      |\n",
      "+------+-----------+------+----------+-------------------------+\n",
      "|jangcy|100        |jangcy|something1|https://stackoverflow.com|\n",
      "+------+-----------+------+----------+-------------------------+\n",
      "\n"
     ]
    }
   ],
   "source": [
    "newJson = '{\"Name\":\"something1\",\"Url\":\"https://stackoverflow.com\",\"Author\":\"jangcy\",\"BlogEntries\":100,\"Caller\":\"jangcy\"}'\n",
    "df = spark.read.json(sc.parallelize([newJson]))\n",
    "df.show(truncate=False)"
   ]
  },
  {
   "cell_type": "code",
   "execution_count": 6,
   "metadata": {},
   "outputs": [
    {
     "name": "stdout",
     "output_type": "stream",
     "text": [
      "23/02/06 09:33:21 WARN package: Truncated the string representation of a plan since it was too large. This behavior can be adjusted by setting 'spark.sql.debug.maxToStringFields'.\n"
     ]
    },
    {
     "name": "stderr",
     "output_type": "stream",
     "text": [
      "                                                                                \r"
     ]
    },
    {
     "name": "stdout",
     "output_type": "stream",
     "text": [
      "+------+-----------+------+----------+--------------------+\n",
      "|Author|BlogEntries|Caller|      Name|                 Url|\n",
      "+------+-----------+------+----------+--------------------+\n",
      "|jangcy|        100|jangcy|something1|https://stackover...|\n",
      "+------+-----------+------+----------+--------------------+\n",
      "\n"
     ]
    }
   ],
   "source": [
    "df.write.format(\"delta\").mode(\"overwrite\").save(\"delta_merge_test01.parquet\")\n",
    "\n",
    "df1 = spark.read.format(\"delta\").load(\"delta_merge_test01.parquet\")\n",
    "df1.show()"
   ]
  },
  {
   "cell_type": "code",
   "execution_count": 7,
   "metadata": {},
   "outputs": [
    {
     "name": "stdout",
     "output_type": "stream",
     "text": [
      "+------+-----------+------+---------+-------------------------+\n",
      "|Author|BlogEntries|Caller|Name     |Url                      |\n",
      "+------+-----------+------+---------+-------------------------+\n",
      "|jangcy|100        |jangcy|something|https://stackoverflow.com|\n",
      "+------+-----------+------+---------+-------------------------+\n",
      "\n"
     ]
    }
   ],
   "source": [
    "newJson = '{\"Name\":\"something\",\"Url\":\"https://stackoverflow.com\",\"Author\":\"jangcy\",\"BlogEntries\":100,\"Caller\":\"jangcy\"}'\n",
    "df2 = spark.read.json(sc.parallelize([newJson]))\n",
    "df2.show(truncate=False)"
   ]
  },
  {
   "cell_type": "code",
   "execution_count": 8,
   "metadata": {},
   "outputs": [
    {
     "name": "stderr",
     "output_type": "stream",
     "text": [
      "                                                                                \r"
     ]
    }
   ],
   "source": [
    "deltaTable = delta.tables.DeltaTable.forPath(spark, \"delta_merge_test01.parquet\")\n",
    "\n",
    "deltaTable.alias(\"deltaTable\") \\\n",
    "  .merge(\n",
    "    df2.alias(\"df2\"),\n",
    "    \"deltaTable.Name = df2.Name\") \\\n",
    "  .whenMatchedUpdate(set = { \"Name\": F.col(\"deltaTable.Name\"),\n",
    "                           \"Author\": F.col(\"deltaTable.Author\"),\n",
    "                           \"BlogEntries\": F.col(\"deltaTable.BlogEntries\"),\n",
    "                           \"Caller\": F.col(\"deltaTable.Caller\"),\n",
    "                           \"Url\": F.col(\"deltaTable.Url\")}) \\\n",
    "  .whenNotMatchedInsert(values = { \"Name\": F.col(\"df2.Name\"),\n",
    "                           \"Author\": F.col(\"df2.Author\"),\n",
    "                           \"BlogEntries\": F.col(\"df2.BlogEntries\"),\n",
    "                           \"Caller\": F.col(\"df2.Caller\"),\n",
    "                           \"Url\": F.col(\"df2.Url\")}) \\\n",
    "  .execute()\n"
   ]
  },
  {
   "cell_type": "code",
   "execution_count": 9,
   "metadata": {},
   "outputs": [
    {
     "name": "stdout",
     "output_type": "stream",
     "text": [
      "+------+-----------+------+----------+--------------------+\n",
      "|Author|BlogEntries|Caller|      Name|                 Url|\n",
      "+------+-----------+------+----------+--------------------+\n",
      "|jangcy|        100|jangcy|something1|https://stackover...|\n",
      "|jangcy|        100|jangcy| something|https://stackover...|\n",
      "+------+-----------+------+----------+--------------------+\n",
      "\n"
     ]
    }
   ],
   "source": [
    "deltaTable.toDF().show()"
   ]
  },
  {
   "cell_type": "code",
   "execution_count": 10,
   "metadata": {},
   "outputs": [
    {
     "name": "stdout",
     "output_type": "stream",
     "text": [
      "+------+-----------+------+---------+-----------------------------------+\n",
      "|Author|BlogEntries|Caller|Name     |Url                                |\n",
      "+------+-----------+------+---------+-----------------------------------+\n",
      "|jangcy|111        |jangcy|something|https://stackoverflow.com/something|\n",
      "+------+-----------+------+---------+-----------------------------------+\n",
      "\n"
     ]
    }
   ],
   "source": [
    "newJson = '{\"Name\":\"something\",\"Url\":\"https://stackoverflow.com/something\",\"Author\":\"jangcy\",\"BlogEntries\":111,\"Caller\":\"jangcy\"}'\n",
    "df2 = spark.read.json(sc.parallelize([newJson]))\n",
    "df2.show(truncate=False)"
   ]
  },
  {
   "cell_type": "code",
   "execution_count": 11,
   "metadata": {},
   "outputs": [
    {
     "name": "stderr",
     "output_type": "stream",
     "text": [
      "                                                                                \r"
     ]
    }
   ],
   "source": [
    "deltaTable = delta.tables.DeltaTable.forPath(spark, \"delta_merge_test01.parquet\")\n",
    "\n",
    "deltaTable.alias(\"deltaTable\") \\\n",
    "    .merge(\n",
    "    df2.alias(\"df2\"),\n",
    "    \"deltaTable.Name = df2.Name\") \\\n",
    "    .whenMatchedUpdateAll()\\\n",
    "    .whenNotMatchedInsertAll()\\\n",
    "    .execute()\n"
   ]
  },
  {
   "cell_type": "code",
   "execution_count": 12,
   "metadata": {},
   "outputs": [
    {
     "name": "stderr",
     "output_type": "stream",
     "text": [
      "\r",
      "[Stage 74:====================================================>   (47 + 1) / 50]\r",
      "\r",
      "                                                                                \r"
     ]
    },
    {
     "name": "stdout",
     "output_type": "stream",
     "text": [
      "+------+-----------+------+----------+--------------------+\n",
      "|Author|BlogEntries|Caller|      Name|                 Url|\n",
      "+------+-----------+------+----------+--------------------+\n",
      "|jangcy|        100|jangcy|something1|https://stackover...|\n",
      "|jangcy|        100|jangcy| something|https://stackover...|\n",
      "+------+-----------+------+----------+--------------------+\n",
      "\n"
     ]
    }
   ],
   "source": [
    "deltaTable.toDF().show()"
   ]
  },
  {
   "cell_type": "code",
   "execution_count": null,
   "metadata": {},
   "outputs": [],
   "source": []
  }
 ],
 "metadata": {
  "kernelspec": {
   "display_name": "Python 3 (ipykernel)",
   "language": "python",
   "name": "python3"
  },
  "language_info": {
   "codemirror_mode": {
    "name": "ipython",
    "version": 3
   },
   "file_extension": ".py",
   "mimetype": "text/x-python",
   "name": "python",
   "nbconvert_exporter": "python",
   "pygments_lexer": "ipython3",
   "version": "3.10.8"
  }
 },
 "nbformat": 4,
 "nbformat_minor": 2
}
